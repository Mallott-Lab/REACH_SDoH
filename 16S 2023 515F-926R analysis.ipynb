{
 "cells": [
  {
   "cell_type": "markdown",
   "metadata": {},
   "source": [
    "# Analysis of 16S Sequences from REACH Project\n",
    "\n",
    "\n",
    "This is an analysis of 16S sequences to detect prokaryotes present in fecal samples collected from participants and soil samples in Mississippi and Cahokia Heights in the summers of 2022 and 2023. Primers used were the E515F-E926R set.\n",
    "\n",
    "## Importing data\n",
    "First, raw sequences are imported into QIIME (v2-2022.8)."
   ]
  },
  {
   "cell_type": "code",
   "execution_count": null,
   "metadata": {},
   "outputs": [],
   "source": [
    "qiime tools import --type 'SampleData[PairedEndSequencesWithQuality]' --input-path Manifest_combined_fixed.csv\n",
    "--output-path paired-end-demux-combined.qza --input-format PairedEndFastqManifestPhred33\n",
    "\n",
    "qiime demux summarize --i-data paired-end-demux-combined.qza --o-visualization paired-end-demux-combined.qzv"
   ]
  },
  {
   "cell_type": "markdown",
   "metadata": {},
   "source": [
    "# Trimming and Quality Filtering\n",
    "\n",
    "The DADA2 algorithm was used for trimming, quality-filtering, and identifying amplicon sequence variants (ASVs), using the parameters below. Forward and reverse trimming was based on primer sequence length. Forward and reverse truncation was based on quality scores (visualized with the paired-end-demux-combined.qzv file above). A combined metadata file was constructed, and short IDs were extracted from Mallott IDs using extract_short_IDs.R. The metadata was adjusted to match the manifest, and a feature table visualization was created."
   ]
  },
  {
   "cell_type": "code",
   "execution_count": null,
   "metadata": {},
   "outputs": [],
   "source": [
    "qiime dada2 denoise-paired --i-demultiplexed-seqs paired-end-demux-combined.qza --p-trunc-len-f 282 --p-trunc-len-r 229 \\\n",
    "--p-trim-left-f 19 --p-trim-left-r 20 --p-max-ee-f 5 --p-max-ee-r 6 --p-n-threads 10 --o-table table-combined-1.qza \\\n",
    "--o-representative-sequences rep-seqs-combined-1.qza --o-denoising-stats dada2-stats-combined.qza\n",
    "\n",
    "qiime dada2 denoise-paired --i-demultiplexed-seqs paired-end-demux-combined.qza --p-trunc-len-f 276 --p-trunc-len-r 224 \\\n",
    "--p-trim-left-f 19 --p-trim-left-r 20 --p-max-ee-f 5 --p-max-ee-r 5 --p-n-threads 10 --o-table table-combined-1.qza \\\n",
    "--o-representative-sequences rep-seqs-combined.qza --o-denoising-stats dada2-stats-combined.qza\n",
    "\n",
    "\n",
    "qiime metadata tabulate --m-input-file dada2-stats-combined.qza --o-visualization dada2-stats-combined.qzv\n",
    "\n",
    "qiime feature-table summarize --i-table table-combined.qza --o-visualization table.qzv \\\n",
    "--m-sample-metadata-file metadata_combined_2022_2023.tsv"
   ]
  },
  {
   "cell_type": "markdown",
   "metadata": {},
   "source": [
    "# SCRUB"
   ]
  }
 ],
 "metadata": {
  "language_info": {
   "name": "python"
  }
 },
 "nbformat": 4,
 "nbformat_minor": 2
}
